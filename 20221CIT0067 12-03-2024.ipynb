{
  "nbformat": 4,
  "nbformat_minor": 0,
  "metadata": {
    "colab": {
      "provenance": []
    },
    "kernelspec": {
      "name": "python3",
      "display_name": "Python 3"
    },
    "language_info": {
      "name": "python"
    }
  },
  "cells": [
    {
      "cell_type": "code",
      "execution_count": 2,
      "metadata": {
        "colab": {
          "base_uri": "https://localhost:8080/"
        },
        "id": "egrKaVuexrQg",
        "outputId": "72bea2c2-1dd7-41d8-cc12-b90dfcb4cd73"
      },
      "outputs": [
        {
          "output_type": "stream",
          "name": "stdout",
          "text": [
            "Collecting library\n",
            "  Downloading Library-0.0.0.tar.gz (1.4 kB)\n",
            "  Preparing metadata (setup.py) ... \u001b[?25l\u001b[?25hdone\n",
            "Building wheels for collected packages: library\n",
            "  Building wheel for library (setup.py) ... \u001b[?25l\u001b[?25hdone\n",
            "  Created wheel for library: filename=Library-0.0.0-py3-none-any.whl size=2054 sha256=905a7eb26bf9beee8517d3ab3cbfb2c41ca9320e6b402376cce3ecae23a6371c\n",
            "  Stored in directory: /root/.cache/pip/wheels/e0/71/7d/b0e29b944e43374597cd4e3b88c85197001c9bfcd5dce191f4\n",
            "Successfully built library\n",
            "Installing collected packages: library\n",
            "Successfully installed library-0.0.0\n"
          ]
        }
      ],
      "source": [
        "import requests\n",
        "!pip install --upgrade 'library'"
      ]
    },
    {
      "cell_type": "code",
      "source": [
        "r = requests.get('https://www.romexchange.com/')\n",
        "r"
      ],
      "metadata": {
        "colab": {
          "base_uri": "https://localhost:8080/"
        },
        "id": "7J_V7aATyZ0B",
        "outputId": "ce14a136-b3c3-4714-91ee-c5213f26a8c3"
      },
      "execution_count": 5,
      "outputs": [
        {
          "output_type": "execute_result",
          "data": {
            "text/plain": [
              "<Response [406]>"
            ]
          },
          "metadata": {},
          "execution_count": 5
        }
      ]
    },
    {
      "cell_type": "code",
      "source": [
        "r.status_code"
      ],
      "metadata": {
        "colab": {
          "base_uri": "https://localhost:8080/"
        },
        "id": "7UFFQmj0zVNY",
        "outputId": "d50b54ab-fdef-4059-948a-8403be647195"
      },
      "execution_count": 6,
      "outputs": [
        {
          "output_type": "execute_result",
          "data": {
            "text/plain": [
              "406"
            ]
          },
          "metadata": {},
          "execution_count": 6
        }
      ]
    },
    {
      "cell_type": "code",
      "source": [
        "url = 'https://www.romexchange.com/'\n",
        "\n",
        "headers = {'Content-type': 'apllication/json'}\n",
        "url\n",
        "headers"
      ],
      "metadata": {
        "colab": {
          "base_uri": "https://localhost:8080/"
        },
        "id": "bRCMaLCkzxfI",
        "outputId": "0c4a6ae1-861c-45d2-d248-9409d7ad9439"
      },
      "execution_count": 7,
      "outputs": [
        {
          "output_type": "execute_result",
          "data": {
            "text/plain": [
              "{'Content-type': 'apllication/json'}"
            ]
          },
          "metadata": {},
          "execution_count": 7
        }
      ]
    },
    {
      "cell_type": "code",
      "source": [
        "url = 'https://www.romexchange.com/'\n",
        "\n",
        "headers = {'Content-type': 'apllication/json'}\n",
        "url"
      ],
      "metadata": {
        "colab": {
          "base_uri": "https://localhost:8080/",
          "height": 35
        },
        "id": "975DCUDQ04TX",
        "outputId": "357af13e-69be-47c8-d14b-ef4034df9e2b"
      },
      "execution_count": 8,
      "outputs": [
        {
          "output_type": "execute_result",
          "data": {
            "text/plain": [
              "'https://www.romexchange.com/'"
            ],
            "application/vnd.google.colaboratory.intrinsic+json": {
              "type": "string"
            }
          },
          "metadata": {},
          "execution_count": 8
        }
      ]
    },
    {
      "cell_type": "code",
      "source": [
        "url = 'https://www.romexchange.com/'\n",
        "\n",
        "headers = {'Content-type': 'apllication/json'}\n",
        "headers"
      ],
      "metadata": {
        "colab": {
          "base_uri": "https://localhost:8080/"
        },
        "id": "k29qMou407jm",
        "outputId": "a0d48f45-c25d-4195-d307-72903b8029ea"
      },
      "execution_count": 9,
      "outputs": [
        {
          "output_type": "execute_result",
          "data": {
            "text/plain": [
              "{'Content-type': 'apllication/json'}"
            ]
          },
          "metadata": {},
          "execution_count": 9
        }
      ]
    },
    {
      "cell_type": "code",
      "source": [
        "url = 'https://romexchange.com/'\n",
        "headersvar = {'User-Agent': 'XY','Content-type':'apllication/json'}\n",
        "r = requests.get(url, headers=headersvar)"
      ],
      "metadata": {
        "id": "QQHKBzuT1DfN"
      },
      "execution_count": 11,
      "outputs": []
    },
    {
      "cell_type": "code",
      "source": [
        "r.text"
      ],
      "metadata": {
        "colab": {
          "base_uri": "https://localhost:8080/",
          "height": 139
        },
        "id": "5LByXM8e2r8u",
        "outputId": "53bfaea1-a302-4294-abeb-dd11d237bc76"
      },
      "execution_count": 12,
      "outputs": [
        {
          "output_type": "execute_result",
          "data": {
            "text/plain": [
              "'<!doctype html><html lang=\"en\"><head><meta charset=\"utf-8\"><meta name=\"viewport\" content=\"width=device-width,initial-scale=1,shrink-to-fit=no\"><meta name=\"theme-color\" content=\"#000000\"><meta name=\"description\" content=\"Track price changes of any item in Ragnarok M on the Global and SEA servers. Easily see which item prices are rising or falling the fastest and compare between servers to gain an advantage in trading.\"><meta name=\"keywords\" content=\"Ragnarok, Online, Mobile, Eternal Love, Exchange, History, ROM, Ragnarok M, RO, Price, Market, Tracker, Global, SEA\"><meta property=\"og:site_name\" content=\"ROM Exchange\"><meta property=\"og:title\" content=\"ROM Exchange - Ragnarok M: Eternal Love Exchange Price History\"><meta property=\"og:description\" content=\"Track price changes of any item in Ragnarok M on the Global and SEA servers. Easily see which item prices are rising or falling the fastest and compare between servers to gain an advantage in trading.\"><meta property=\"og:image\" content=\"/images/og_image.png\"><link rel=\"manifest\" href=\"/manifest.json\"><link rel=\"shortcut icon\" href=\"/favicon.ico\"><link rel=\"stylesheet\" href=\"https://fonts.googleapis.com/css?family=Roboto:300,400,500\"/><link rel=\"stylesheet\" href=\"https://fonts.googleapis.com/icon?family=Material+Icons\"/><title>ROM Exchange - Ragnarok M: Eternal Love Exchange Price History</title><link href=\"/static/css/main.2cec7f57.chunk.css\" rel=\"stylesheet\"></head><body><noscript>You need to enable JavaScript to run this app.</noscript><div id=\"root\"></div><script>!function(l){function e(e){for(var r,t,n=e[0],o=e[1],u=e[2],f=0,i=[];f<n.length;f++)t=n[f],p[t]&&i.push(p[t][0]),p[t]=0;for(r in o)Object.prototype.hasOwnProperty.call(o,r)&&(l[r]=o[r]);for(s&&s(e);i.length;)i.shift()();return c.push.apply(c,u||[]),a()}function a(){for(var e,r=0;r<c.length;r++){for(var t=c[r],n=!0,o=1;o<t.length;o++){var u=t[o];0!==p[u]&&(n=!1)}n&&(c.splice(r--,1),e=f(f.s=t[0]))}return e}var t={},p={2:0},c=[];function f(e){if(t[e])return t[e].exports;var r=t[e]={i:e,l:!1,exports:{}};return l[e].call(r.exports,r,r.exports,f),r.l=!0,r.exports}f.m=l,f.c=t,f.d=function(e,r,t){f.o(e,r)||Object.defineProperty(e,r,{enumerable:!0,get:t})},f.r=function(e){\"undefined\"!=typeof Symbol&&Symbol.toStringTag&&Object.defineProperty(e,Symbol.toStringTag,{value:\"Module\"}),Object.defineProperty(e,\"__esModule\",{value:!0})},f.t=function(r,e){if(1&e&&(r=f(r)),8&e)return r;if(4&e&&\"object\"==typeof r&&r&&r.__esModule)return r;var t=Object.create(null);if(f.r(t),Object.defineProperty(t,\"default\",{enumerable:!0,value:r}),2&e&&\"string\"!=typeof r)for(var n in r)f.d(t,n,function(e){return r[e]}.bind(null,n));return t},f.n=function(e){var r=e&&e.__esModule?function(){return e.default}:function(){return e};return f.d(r,\"a\",r),r},f.o=function(e,r){return Object.prototype.hasOwnProperty.call(e,r)},f.p=\"/\";var r=this.webpackJsonp=this.webpackJsonp||[],n=r.push.bind(r);r.push=e,r=r.slice();for(var o=0;o<r.length;o++)e(r[o]);var s=n;a()}([])</script><script src=\"/static/js/1.ad152b9e.chunk.js\"></script><script src=\"/static/js/main.226be9fb.chunk.js\"></script></body></html>'"
            ],
            "application/vnd.google.colaboratory.intrinsic+json": {
              "type": "string"
            }
          },
          "metadata": {},
          "execution_count": 12
        }
      ]
    }
  ]
}